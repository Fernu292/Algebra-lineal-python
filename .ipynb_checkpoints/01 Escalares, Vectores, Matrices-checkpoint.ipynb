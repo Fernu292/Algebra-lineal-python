{
 "cells": [
  {
   "cell_type": "markdown",
   "id": "84e92d28",
   "metadata": {},
   "source": [
    "## Bases numericas para DataScience\n",
    "\n",
    "Con numeros Escalares, Vectores y Matrices"
   ]
  },
  {
   "cell_type": "code",
   "execution_count": 1,
   "id": "dda0a480",
   "metadata": {},
   "outputs": [
    {
     "name": "stdout",
     "output_type": "stream",
     "text": [
      "5.728\n"
     ]
    }
   ],
   "source": [
    "escalar = 5.728\n",
    "print(escalar)"
   ]
  },
  {
   "cell_type": "code",
   "execution_count": null,
   "id": "b9e290c1",
   "metadata": {},
   "outputs": [],
   "source": []
  }
 ],
 "metadata": {
  "kernelspec": {
   "display_name": "Python 3 (ipykernel)",
   "language": "python",
   "name": "python3"
  },
  "language_info": {
   "codemirror_mode": {
    "name": "ipython",
    "version": 3
   },
   "file_extension": ".py",
   "mimetype": "text/x-python",
   "name": "python",
   "nbconvert_exporter": "python",
   "pygments_lexer": "ipython3",
   "version": "3.8.12"
  }
 },
 "nbformat": 4,
 "nbformat_minor": 5
}
